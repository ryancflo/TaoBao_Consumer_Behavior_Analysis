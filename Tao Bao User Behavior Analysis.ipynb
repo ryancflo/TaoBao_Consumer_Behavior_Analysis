{
 "cells": [
  {
   "cell_type": "markdown",
   "id": "monetary-formula",
   "metadata": {},
   "source": [
    "## User Behavior Analysis Tao Bao \n",
    "WORK IN PROGRESS"
   ]
  },
  {
   "cell_type": "markdown",
   "id": "broadband-soldier",
   "metadata": {},
   "source": [
    "### Dataset Background\n",
    "\n",
    "Dataset of user behaviors from Taobao, for recommendation problem with implicit feedback. The dataset is offered by Alibaba. Data is randomly selected from 1 million users who have behaviors including click, purchase, adding item to shopping cart and item favoring during November 25 to December 03, 2017. The dataset is organized in a very similar form to MovieLens-20M, i.e., each line represents a specific user-item interaction, which consists of user ID, item ID, item's category ID, behavior type and timestamp, separated by commas.\n",
    "\n",
    "User ID\t- An integer, the serialized ID that represents a user  \n",
    "Item ID\t- An integer, the serialized ID that represents an item  \n",
    "Category ID\t- An integer, the serialized ID that represents the category which the corresponding item belongs to  \n",
    "Behavior type - A string, enum-type from ('pv', 'buy', 'cart', 'fav')  \n",
    "Timestamp - An integer, the timestamp of the behavior\n",
    "\n",
    "\n",
    "This data set contains all the behaviors of about one million random users with behaviors between November 25, 2017 and December 3, 2017\n"
   ]
  },
  {
   "cell_type": "code",
   "execution_count": 1,
   "id": "photographic-james",
   "metadata": {},
   "outputs": [],
   "source": [
    "import pandas as pd\n",
    "import matplotlib.pyplot as plt\n",
    "import seaborn as sns\n",
    "import numpy as np\n",
    "import squarify as sq\n",
    "import plotly.express as px\n",
    "import warnings\n",
    "warnings.filterwarnings('ignore')"
   ]
  },
  {
   "cell_type": "markdown",
   "id": "sophisticated-train",
   "metadata": {},
   "source": [
    "### Data Preprocessing"
   ]
  },
  {
   "cell_type": "code",
   "execution_count": 2,
   "id": "beautiful-procedure",
   "metadata": {},
   "outputs": [
    {
     "data": {
      "text/html": [
       "<div>\n",
       "<style scoped>\n",
       "    .dataframe tbody tr th:only-of-type {\n",
       "        vertical-align: middle;\n",
       "    }\n",
       "\n",
       "    .dataframe tbody tr th {\n",
       "        vertical-align: top;\n",
       "    }\n",
       "\n",
       "    .dataframe thead th {\n",
       "        text-align: right;\n",
       "    }\n",
       "</style>\n",
       "<table border=\"1\" class=\"dataframe\">\n",
       "  <thead>\n",
       "    <tr style=\"text-align: right;\">\n",
       "      <th></th>\n",
       "      <th>1</th>\n",
       "      <th>2268318</th>\n",
       "      <th>2520377</th>\n",
       "      <th>pv</th>\n",
       "      <th>1511544070</th>\n",
       "    </tr>\n",
       "  </thead>\n",
       "  <tbody>\n",
       "    <tr>\n",
       "      <th>0</th>\n",
       "      <td>1</td>\n",
       "      <td>2333346</td>\n",
       "      <td>2520771</td>\n",
       "      <td>pv</td>\n",
       "      <td>1511561733</td>\n",
       "    </tr>\n",
       "    <tr>\n",
       "      <th>1</th>\n",
       "      <td>1</td>\n",
       "      <td>2576651</td>\n",
       "      <td>149192</td>\n",
       "      <td>pv</td>\n",
       "      <td>1511572885</td>\n",
       "    </tr>\n",
       "    <tr>\n",
       "      <th>2</th>\n",
       "      <td>1</td>\n",
       "      <td>3830808</td>\n",
       "      <td>4181361</td>\n",
       "      <td>pv</td>\n",
       "      <td>1511593493</td>\n",
       "    </tr>\n",
       "    <tr>\n",
       "      <th>3</th>\n",
       "      <td>1</td>\n",
       "      <td>4365585</td>\n",
       "      <td>2520377</td>\n",
       "      <td>pv</td>\n",
       "      <td>1511596146</td>\n",
       "    </tr>\n",
       "    <tr>\n",
       "      <th>4</th>\n",
       "      <td>1</td>\n",
       "      <td>4606018</td>\n",
       "      <td>2735466</td>\n",
       "      <td>pv</td>\n",
       "      <td>1511616481</td>\n",
       "    </tr>\n",
       "  </tbody>\n",
       "</table>\n",
       "</div>"
      ],
      "text/plain": [
       "   1  2268318  2520377  pv  1511544070\n",
       "0  1  2333346  2520771  pv  1511561733\n",
       "1  1  2576651   149192  pv  1511572885\n",
       "2  1  3830808  4181361  pv  1511593493\n",
       "3  1  4365585  2520377  pv  1511596146\n",
       "4  1  4606018  2735466  pv  1511616481"
      ]
     },
     "execution_count": 2,
     "metadata": {},
     "output_type": "execute_result"
    }
   ],
   "source": [
    "#For purpose of this exercise using on 1/10th of the data\n",
    "\n",
    "data_v1 = pd.read_csv('UserBehavior.csv', header=0)\n",
    "data_v1 = data_v1[:1050000]\n",
    "data_v1.head()"
   ]
  },
  {
   "cell_type": "code",
   "execution_count": 3,
   "id": "overall-newton",
   "metadata": {},
   "outputs": [
    {
     "data": {
      "text/html": [
       "<div>\n",
       "<style scoped>\n",
       "    .dataframe tbody tr th:only-of-type {\n",
       "        vertical-align: middle;\n",
       "    }\n",
       "\n",
       "    .dataframe tbody tr th {\n",
       "        vertical-align: top;\n",
       "    }\n",
       "\n",
       "    .dataframe thead th {\n",
       "        text-align: right;\n",
       "    }\n",
       "</style>\n",
       "<table border=\"1\" class=\"dataframe\">\n",
       "  <thead>\n",
       "    <tr style=\"text-align: right;\">\n",
       "      <th></th>\n",
       "      <th>userid</th>\n",
       "      <th>itemid</th>\n",
       "      <th>catid</th>\n",
       "      <th>behavior</th>\n",
       "      <th>timestamp</th>\n",
       "    </tr>\n",
       "  </thead>\n",
       "  <tbody>\n",
       "    <tr>\n",
       "      <th>0</th>\n",
       "      <td>1</td>\n",
       "      <td>2333346</td>\n",
       "      <td>2520771</td>\n",
       "      <td>pv</td>\n",
       "      <td>1511561733</td>\n",
       "    </tr>\n",
       "    <tr>\n",
       "      <th>1</th>\n",
       "      <td>1</td>\n",
       "      <td>2576651</td>\n",
       "      <td>149192</td>\n",
       "      <td>pv</td>\n",
       "      <td>1511572885</td>\n",
       "    </tr>\n",
       "    <tr>\n",
       "      <th>2</th>\n",
       "      <td>1</td>\n",
       "      <td>3830808</td>\n",
       "      <td>4181361</td>\n",
       "      <td>pv</td>\n",
       "      <td>1511593493</td>\n",
       "    </tr>\n",
       "    <tr>\n",
       "      <th>3</th>\n",
       "      <td>1</td>\n",
       "      <td>4365585</td>\n",
       "      <td>2520377</td>\n",
       "      <td>pv</td>\n",
       "      <td>1511596146</td>\n",
       "    </tr>\n",
       "    <tr>\n",
       "      <th>4</th>\n",
       "      <td>1</td>\n",
       "      <td>4606018</td>\n",
       "      <td>2735466</td>\n",
       "      <td>pv</td>\n",
       "      <td>1511616481</td>\n",
       "    </tr>\n",
       "  </tbody>\n",
       "</table>\n",
       "</div>"
      ],
      "text/plain": [
       "   userid   itemid    catid behavior   timestamp\n",
       "0       1  2333346  2520771       pv  1511561733\n",
       "1       1  2576651   149192       pv  1511572885\n",
       "2       1  3830808  4181361       pv  1511593493\n",
       "3       1  4365585  2520377       pv  1511596146\n",
       "4       1  4606018  2735466       pv  1511616481"
      ]
     },
     "execution_count": 3,
     "metadata": {},
     "output_type": "execute_result"
    }
   ],
   "source": [
    "data_v1.columns = ['userid', 'itemid', 'catid', 'behavior', 'timestamp']\n",
    "data_v1.head()"
   ]
  },
  {
   "cell_type": "code",
   "execution_count": 4,
   "id": "industrial-voice",
   "metadata": {},
   "outputs": [
    {
     "data": {
      "text/html": [
       "<div>\n",
       "<style scoped>\n",
       "    .dataframe tbody tr th:only-of-type {\n",
       "        vertical-align: middle;\n",
       "    }\n",
       "\n",
       "    .dataframe tbody tr th {\n",
       "        vertical-align: top;\n",
       "    }\n",
       "\n",
       "    .dataframe thead th {\n",
       "        text-align: right;\n",
       "    }\n",
       "</style>\n",
       "<table border=\"1\" class=\"dataframe\">\n",
       "  <thead>\n",
       "    <tr style=\"text-align: right;\">\n",
       "      <th></th>\n",
       "      <th>userid</th>\n",
       "      <th>itemid</th>\n",
       "      <th>catid</th>\n",
       "      <th>behavior</th>\n",
       "      <th>timestamp</th>\n",
       "    </tr>\n",
       "  </thead>\n",
       "  <tbody>\n",
       "    <tr>\n",
       "      <th>0</th>\n",
       "      <td>1</td>\n",
       "      <td>2333346</td>\n",
       "      <td>2520771</td>\n",
       "      <td>pv</td>\n",
       "      <td>2017-11-25 06:15:33+08:00</td>\n",
       "    </tr>\n",
       "    <tr>\n",
       "      <th>1</th>\n",
       "      <td>1</td>\n",
       "      <td>2576651</td>\n",
       "      <td>149192</td>\n",
       "      <td>pv</td>\n",
       "      <td>2017-11-25 09:21:25+08:00</td>\n",
       "    </tr>\n",
       "    <tr>\n",
       "      <th>2</th>\n",
       "      <td>1</td>\n",
       "      <td>3830808</td>\n",
       "      <td>4181361</td>\n",
       "      <td>pv</td>\n",
       "      <td>2017-11-25 15:04:53+08:00</td>\n",
       "    </tr>\n",
       "    <tr>\n",
       "      <th>3</th>\n",
       "      <td>1</td>\n",
       "      <td>4365585</td>\n",
       "      <td>2520377</td>\n",
       "      <td>pv</td>\n",
       "      <td>2017-11-25 15:49:06+08:00</td>\n",
       "    </tr>\n",
       "    <tr>\n",
       "      <th>4</th>\n",
       "      <td>1</td>\n",
       "      <td>4606018</td>\n",
       "      <td>2735466</td>\n",
       "      <td>pv</td>\n",
       "      <td>2017-11-25 21:28:01+08:00</td>\n",
       "    </tr>\n",
       "  </tbody>\n",
       "</table>\n",
       "</div>"
      ],
      "text/plain": [
       "   userid   itemid    catid behavior                 timestamp\n",
       "0       1  2333346  2520771       pv 2017-11-25 06:15:33+08:00\n",
       "1       1  2576651   149192       pv 2017-11-25 09:21:25+08:00\n",
       "2       1  3830808  4181361       pv 2017-11-25 15:04:53+08:00\n",
       "3       1  4365585  2520377       pv 2017-11-25 15:49:06+08:00\n",
       "4       1  4606018  2735466       pv 2017-11-25 21:28:01+08:00"
      ]
     },
     "execution_count": 4,
     "metadata": {},
     "output_type": "execute_result"
    }
   ],
   "source": [
    "# data_temp['timestamp'] = pd.to_datetime(data_temp['timestamp'].values, utc = True, unit='s', format = '%Y-%m-%d').tz_convert('Asia/Shanghai')\n",
    "data_v1['timestamp']=pd.to_datetime(data_v1.timestamp.values,unit='s',utc=True).tz_convert('Asia/Shanghai')\n",
    "data_v1.head()"
   ]
  },
  {
   "cell_type": "code",
   "execution_count": 5,
   "id": "victorian-scanner",
   "metadata": {},
   "outputs": [],
   "source": [
    "data_v1['date'] = data_v1['timestamp'].dt.date\n",
    "data_v1['day'] = data_v1['timestamp'].dt.day\n",
    "data_v1['month'] = data_v1['timestamp'].dt.month\n",
    "data_v1['hour'] = data_v1['timestamp'].dt.hour\n",
    "data_v1.head()\n",
    "\n",
    "data_v1['date'] = pd.to_datetime(data_v1['date'])  \n",
    "#Remove data outside of the range (November 25, 2017 and December 3, 2017)\n",
    "data_v1 = data_v1.loc[(data_v1['date'] > '2017-11-25') & (data_v1['date'] <= '2017-12-03')]"
   ]
  },
  {
   "cell_type": "code",
   "execution_count": 6,
   "id": "digital-thomson",
   "metadata": {},
   "outputs": [
    {
     "data": {
      "text/html": [
       "<div>\n",
       "<style scoped>\n",
       "    .dataframe tbody tr th:only-of-type {\n",
       "        vertical-align: middle;\n",
       "    }\n",
       "\n",
       "    .dataframe tbody tr th {\n",
       "        vertical-align: top;\n",
       "    }\n",
       "\n",
       "    .dataframe thead th {\n",
       "        text-align: right;\n",
       "    }\n",
       "</style>\n",
       "<table border=\"1\" class=\"dataframe\">\n",
       "  <thead>\n",
       "    <tr style=\"text-align: right;\">\n",
       "      <th></th>\n",
       "      <th>userid</th>\n",
       "      <th>itemid</th>\n",
       "      <th>catid</th>\n",
       "      <th>behavior</th>\n",
       "      <th>timestamp</th>\n",
       "      <th>date</th>\n",
       "      <th>day</th>\n",
       "      <th>month</th>\n",
       "      <th>hour</th>\n",
       "    </tr>\n",
       "  </thead>\n",
       "  <tbody>\n",
       "    <tr>\n",
       "      <th>1049995</th>\n",
       "      <td>130802</td>\n",
       "      <td>4369375</td>\n",
       "      <td>3002561</td>\n",
       "      <td>pv</td>\n",
       "      <td>2017-12-03 22:49:09+08:00</td>\n",
       "      <td>2017-12-03</td>\n",
       "      <td>3</td>\n",
       "      <td>12</td>\n",
       "      <td>22</td>\n",
       "    </tr>\n",
       "    <tr>\n",
       "      <th>1049996</th>\n",
       "      <td>130802</td>\n",
       "      <td>256383</td>\n",
       "      <td>4708262</td>\n",
       "      <td>pv</td>\n",
       "      <td>2017-12-03 22:50:42+08:00</td>\n",
       "      <td>2017-12-03</td>\n",
       "      <td>3</td>\n",
       "      <td>12</td>\n",
       "      <td>22</td>\n",
       "    </tr>\n",
       "    <tr>\n",
       "      <th>1049997</th>\n",
       "      <td>130802</td>\n",
       "      <td>2941750</td>\n",
       "      <td>3002561</td>\n",
       "      <td>pv</td>\n",
       "      <td>2017-12-03 22:51:03+08:00</td>\n",
       "      <td>2017-12-03</td>\n",
       "      <td>3</td>\n",
       "      <td>12</td>\n",
       "      <td>22</td>\n",
       "    </tr>\n",
       "    <tr>\n",
       "      <th>1049998</th>\n",
       "      <td>130802</td>\n",
       "      <td>892908</td>\n",
       "      <td>3002561</td>\n",
       "      <td>pv</td>\n",
       "      <td>2017-12-03 22:53:26+08:00</td>\n",
       "      <td>2017-12-03</td>\n",
       "      <td>3</td>\n",
       "      <td>12</td>\n",
       "      <td>22</td>\n",
       "    </tr>\n",
       "    <tr>\n",
       "      <th>1049999</th>\n",
       "      <td>130802</td>\n",
       "      <td>2719022</td>\n",
       "      <td>3002561</td>\n",
       "      <td>pv</td>\n",
       "      <td>2017-12-03 22:53:53+08:00</td>\n",
       "      <td>2017-12-03</td>\n",
       "      <td>3</td>\n",
       "      <td>12</td>\n",
       "      <td>22</td>\n",
       "    </tr>\n",
       "  </tbody>\n",
       "</table>\n",
       "</div>"
      ],
      "text/plain": [
       "         userid   itemid    catid behavior                 timestamp  \\\n",
       "1049995  130802  4369375  3002561       pv 2017-12-03 22:49:09+08:00   \n",
       "1049996  130802   256383  4708262       pv 2017-12-03 22:50:42+08:00   \n",
       "1049997  130802  2941750  3002561       pv 2017-12-03 22:51:03+08:00   \n",
       "1049998  130802   892908  3002561       pv 2017-12-03 22:53:26+08:00   \n",
       "1049999  130802  2719022  3002561       pv 2017-12-03 22:53:53+08:00   \n",
       "\n",
       "              date  day  month  hour  \n",
       "1049995 2017-12-03    3     12    22  \n",
       "1049996 2017-12-03    3     12    22  \n",
       "1049997 2017-12-03    3     12    22  \n",
       "1049998 2017-12-03    3     12    22  \n",
       "1049999 2017-12-03    3     12    22  "
      ]
     },
     "execution_count": 6,
     "metadata": {},
     "output_type": "execute_result"
    }
   ],
   "source": [
    "data_v1.tail()"
   ]
  },
  {
   "cell_type": "code",
   "execution_count": 7,
   "id": "utility-violin",
   "metadata": {},
   "outputs": [],
   "source": [
    "# 1. Find unique userid, itemid\n",
    "# 2. Find unique userid at each step of the user funnel\n",
    "# 3. Find conversion ratio from pv-fav fav-cart cart-buy fav-buy\n",
    "# 4. Find which month has the highest ratio \n",
    "# 5. Visualize day, month, hour where ratios and absolutes are the highest\n",
    "# 6. Time series"
   ]
  },
  {
   "cell_type": "code",
   "execution_count": 8,
   "id": "legitimate-insight",
   "metadata": {},
   "outputs": [
    {
     "name": "stdout",
     "output_type": "stream",
     "text": [
      "No.of.unique values in each column:\n",
      " userid        10213\n",
      "itemid       383547\n",
      "catid          5745\n",
      "behavior          4\n",
      "timestamp    453710\n",
      "date              8\n",
      "day               8\n",
      "month             2\n",
      "hour             24\n",
      "dtype: int64\n"
     ]
    }
   ],
   "source": [
    "n = data_v1.nunique(axis=0)\n",
    "  \n",
    "print(\"No.of.unique values in each column:\\n\",n)"
   ]
  },
  {
   "cell_type": "code",
   "execution_count": 9,
   "id": "critical-mexico",
   "metadata": {},
   "outputs": [
    {
     "data": {
      "text/html": [
       "<div>\n",
       "<style scoped>\n",
       "    .dataframe tbody tr th:only-of-type {\n",
       "        vertical-align: middle;\n",
       "    }\n",
       "\n",
       "    .dataframe tbody tr th {\n",
       "        vertical-align: top;\n",
       "    }\n",
       "\n",
       "    .dataframe thead th {\n",
       "        text-align: right;\n",
       "    }\n",
       "</style>\n",
       "<table border=\"1\" class=\"dataframe\">\n",
       "  <thead>\n",
       "    <tr style=\"text-align: right;\">\n",
       "      <th></th>\n",
       "      <th>behavior</th>\n",
       "      <th>userid</th>\n",
       "    </tr>\n",
       "  </thead>\n",
       "  <tbody>\n",
       "    <tr>\n",
       "      <th>0</th>\n",
       "      <td>buy</td>\n",
       "      <td>6725</td>\n",
       "    </tr>\n",
       "    <tr>\n",
       "      <th>1</th>\n",
       "      <td>cart</td>\n",
       "      <td>7507</td>\n",
       "    </tr>\n",
       "    <tr>\n",
       "      <th>2</th>\n",
       "      <td>fav</td>\n",
       "      <td>3914</td>\n",
       "    </tr>\n",
       "    <tr>\n",
       "      <th>3</th>\n",
       "      <td>pv</td>\n",
       "      <td>10179</td>\n",
       "    </tr>\n",
       "  </tbody>\n",
       "</table>\n",
       "</div>"
      ],
      "text/plain": [
       "  behavior  userid\n",
       "0      buy    6725\n",
       "1     cart    7507\n",
       "2      fav    3914\n",
       "3       pv   10179"
      ]
     },
     "execution_count": 9,
     "metadata": {},
     "output_type": "execute_result"
    }
   ],
   "source": [
    "query = data_v1.groupby('behavior')['userid'].nunique()\n",
    "query = query.reset_index()\n",
    "query"
   ]
  },
  {
   "cell_type": "markdown",
   "id": "ideal-dover",
   "metadata": {},
   "source": [
    "### Sales Funnel\n",
    "pv - Page view of an item's detail page, equivalent to an item click  \n",
    "fav - Favor an item  \n",
    "cart - Add an item to shopping cart  \n",
    "buy - Purchase an item  "
   ]
  },
  {
   "cell_type": "code",
   "execution_count": 26,
   "id": "turkish-cleveland",
   "metadata": {},
   "outputs": [
    {
     "data": {
      "image/png": "[encoded data removed]"
     },
     "metadata": {},
     "output_type": "display_data"
    }
   ],
   "source": [
    "query = data_v1.groupby('behavior')['userid'].count()\n",
    "query = query.reset_index()\n",
    "query = query.sort_values(by='userid', ascending=False)\n",
    "\n",
    "fig = px.funnel(query, x='userid', y='behavior')\n",
    "fig.show(\"png\")"
   ]
  },
  {
   "cell_type": "code",
   "execution_count": 11,
   "id": "piano-victoria",
   "metadata": {},
   "outputs": [
    {
     "data": {
      "text/html": [
       "<div>\n",
       "<style scoped>\n",
       "    .dataframe tbody tr th:only-of-type {\n",
       "        vertical-align: middle;\n",
       "    }\n",
       "\n",
       "    .dataframe tbody tr th {\n",
       "        vertical-align: top;\n",
       "    }\n",
       "\n",
       "    .dataframe thead th {\n",
       "        text-align: right;\n",
       "    }\n",
       "</style>\n",
       "<table border=\"1\" class=\"dataframe\">\n",
       "  <thead>\n",
       "    <tr style=\"text-align: right;\">\n",
       "      <th></th>\n",
       "      <th>behavior</th>\n",
       "      <th>userid</th>\n",
       "      <th>ratio_to_buy</th>\n",
       "    </tr>\n",
       "  </thead>\n",
       "  <tbody>\n",
       "    <tr>\n",
       "      <th>0</th>\n",
       "      <td>buy</td>\n",
       "      <td>19254</td>\n",
       "      <td>1.000000</td>\n",
       "    </tr>\n",
       "    <tr>\n",
       "      <th>2</th>\n",
       "      <td>fav</td>\n",
       "      <td>26534</td>\n",
       "      <td>0.725635</td>\n",
       "    </tr>\n",
       "    <tr>\n",
       "      <th>1</th>\n",
       "      <td>cart</td>\n",
       "      <td>51901</td>\n",
       "      <td>0.370976</td>\n",
       "    </tr>\n",
       "    <tr>\n",
       "      <th>3</th>\n",
       "      <td>pv</td>\n",
       "      <td>842198</td>\n",
       "      <td>0.022862</td>\n",
       "    </tr>\n",
       "  </tbody>\n",
       "</table>\n",
       "</div>"
      ],
      "text/plain": [
       "  behavior  userid  ratio_to_buy\n",
       "0      buy   19254      1.000000\n",
       "2      fav   26534      0.725635\n",
       "1     cart   51901      0.370976\n",
       "3       pv  842198      0.022862"
      ]
     },
     "execution_count": 11,
     "metadata": {},
     "output_type": "execute_result"
    }
   ],
   "source": [
    "#Not Unique\n",
    "query = data_v1.groupby('behavior')['userid'].count()\n",
    "query = query.reset_index()\n",
    "query['ratio_to_buy'] = query.loc[0, 'userid'] / query['userid']  \n",
    "query = query.sort_values(by='userid')\n",
    "query\n"
   ]
  },
  {
   "cell_type": "code",
   "execution_count": 12,
   "id": "medical-colony",
   "metadata": {},
   "outputs": [
    {
     "data": {
      "text/html": [
       "<div>\n",
       "<style scoped>\n",
       "    .dataframe tbody tr th:only-of-type {\n",
       "        vertical-align: middle;\n",
       "    }\n",
       "\n",
       "    .dataframe tbody tr th {\n",
       "        vertical-align: top;\n",
       "    }\n",
       "\n",
       "    .dataframe thead th {\n",
       "        text-align: right;\n",
       "    }\n",
       "</style>\n",
       "<table border=\"1\" class=\"dataframe\">\n",
       "  <thead>\n",
       "    <tr style=\"text-align: right;\">\n",
       "      <th></th>\n",
       "      <th>viewCount</th>\n",
       "      <th>favCount</th>\n",
       "      <th>cartCount</th>\n",
       "      <th>buyCount</th>\n",
       "    </tr>\n",
       "    <tr>\n",
       "      <th>date</th>\n",
       "      <th></th>\n",
       "      <th></th>\n",
       "      <th></th>\n",
       "      <th></th>\n",
       "    </tr>\n",
       "  </thead>\n",
       "  <tbody>\n",
       "    <tr>\n",
       "      <th>2017-11-26</th>\n",
       "      <td>100677</td>\n",
       "      <td>3235</td>\n",
       "      <td>6051</td>\n",
       "      <td>2109</td>\n",
       "    </tr>\n",
       "    <tr>\n",
       "      <th>2017-11-27</th>\n",
       "      <td>91678</td>\n",
       "      <td>2977</td>\n",
       "      <td>5699</td>\n",
       "      <td>2336</td>\n",
       "    </tr>\n",
       "    <tr>\n",
       "      <th>2017-11-28</th>\n",
       "      <td>93034</td>\n",
       "      <td>2843</td>\n",
       "      <td>5782</td>\n",
       "      <td>2310</td>\n",
       "    </tr>\n",
       "    <tr>\n",
       "      <th>2017-11-29</th>\n",
       "      <td>95787</td>\n",
       "      <td>3177</td>\n",
       "      <td>5802</td>\n",
       "      <td>2404</td>\n",
       "    </tr>\n",
       "    <tr>\n",
       "      <th>2017-11-30</th>\n",
       "      <td>99713</td>\n",
       "      <td>3041</td>\n",
       "      <td>5906</td>\n",
       "      <td>2447</td>\n",
       "    </tr>\n",
       "    <tr>\n",
       "      <th>2017-12-01</th>\n",
       "      <td>102674</td>\n",
       "      <td>3145</td>\n",
       "      <td>6337</td>\n",
       "      <td>2262</td>\n",
       "    </tr>\n",
       "    <tr>\n",
       "      <th>2017-12-02</th>\n",
       "      <td>129690</td>\n",
       "      <td>4112</td>\n",
       "      <td>8205</td>\n",
       "      <td>2649</td>\n",
       "    </tr>\n",
       "    <tr>\n",
       "      <th>2017-12-03</th>\n",
       "      <td>128945</td>\n",
       "      <td>4004</td>\n",
       "      <td>8119</td>\n",
       "      <td>2737</td>\n",
       "    </tr>\n",
       "  </tbody>\n",
       "</table>\n",
       "</div>"
      ],
      "text/plain": [
       "            viewCount  favCount  cartCount  buyCount\n",
       "date                                                \n",
       "2017-11-26     100677      3235       6051      2109\n",
       "2017-11-27      91678      2977       5699      2336\n",
       "2017-11-28      93034      2843       5782      2310\n",
       "2017-11-29      95787      3177       5802      2404\n",
       "2017-11-30      99713      3041       5906      2447\n",
       "2017-12-01     102674      3145       6337      2262\n",
       "2017-12-02     129690      4112       8205      2649\n",
       "2017-12-03     128945      4004       8119      2737"
      ]
     },
     "execution_count": 12,
     "metadata": {},
     "output_type": "execute_result"
    }
   ],
   "source": [
    "#Time Series Date\n",
    "def function(x, arg):\n",
    "    d = {}\n",
    "    d['viewCount'] = x.groupby(arg)['behavior'].apply(lambda x: (x=='pv').sum()).iloc[0]\n",
    "    d['favCount'] = x.groupby(arg)['behavior'].apply(lambda x: (x=='fav').sum()).iloc[0]\n",
    "    d['cartCount'] = x.groupby(arg)['behavior'].apply(lambda x: (x=='cart').sum()).iloc[0]\n",
    "    d['buyCount'] = x.groupby(arg)['behavior'].apply(lambda x: (x=='buy').sum()).iloc[0]\n",
    "#     d['favourite_count'] = x['b'].mean()\n",
    "#     d['cart_count'] = (x['c'] * x['d']).sum()\n",
    "#     d['buy_count'] = (x['c'] * x['d']).sum()\n",
    "    x = x.reset_index()\n",
    "    return pd.Series(d, index=['viewCount', 'favCount', 'cartCount', 'buyCount'])\n",
    "\n",
    "\n",
    "data_datetimeseries= data_v1.groupby('date').apply(function,arg ='date')\n",
    "data_datetimeseries\n"
   ]
  },
  {
   "cell_type": "markdown",
   "id": "boxed-terrain",
   "metadata": {},
   "source": [
    "### Date Time Series Analysis"
   ]
  },
  {
   "cell_type": "code",
   "execution_count": 13,
   "id": "expensive-partnership",
   "metadata": {},
   "outputs": [
    {
     "data": {
      "image/png": "[encoded data removed]",
      "text/plain": [
       "<Figure size 864x432 with 1 Axes>"
      ]
     },
     "metadata": {
      "needs_background": "light"
     },
     "output_type": "display_data"
    }
   ],
   "source": [
    "#d['user_id_count'] = x.groupby('date')['userid'].count().iloc[0]\n",
    "# Date = data_datetimeseries['date']\n",
    "ViewCount = data_datetimeseries['viewCount'] \n",
    "FavCount = data_datetimeseries['favCount']\n",
    "BuyCount = data_datetimeseries['buyCount']\n",
    "\n",
    "plt.figure(figsize=(12,6))\n",
    "# plt.plot(data_datetimeseries.index, ViewCount)\n",
    "plt.plot(data_datetimeseries.index, BuyCount)\n",
    "plt.title('')\n",
    "plt.xlabel('Date')\n",
    "plt.ylabel('Activity')\n",
    "plt.show()\n"
   ]
  },
  {
   "cell_type": "markdown",
   "id": "unlimited-vitamin",
   "metadata": {},
   "source": [
    "- User traffic skyrockets on the weekends\n",
    "- Marketing efforts should be concentrated during the weekends where traffic and purchase volume are at its peak"
   ]
  },
  {
   "cell_type": "markdown",
   "id": "linear-craft",
   "metadata": {},
   "source": [
    "### Correlation Plot of Behavior Variables"
   ]
  },
  {
   "cell_type": "code",
   "execution_count": 14,
   "id": "facial-rental",
   "metadata": {},
   "outputs": [
    {
     "data": {
      "image/png": "[encoded data removed]",
      "text/plain": [
       "<Figure size 576x576 with 2 Axes>"
      ]
     },
     "metadata": {
      "needs_background": "light"
     },
     "output_type": "display_data"
    }
   ],
   "source": [
    "corrmat = data_datetimeseries.corr(method='spearman')\n",
    "f, ax = plt.subplots(figsize=(8, 8))\n",
    "\n",
    "# Draw the heatmap using seaborn\n",
    "sns.heatmap(corrmat, vmax=1., square=True)\n",
    "plt.title(\"Behavior Correlation Map\", fontsize=15)\n",
    "plt.show()"
   ]
  },
  {
   "cell_type": "markdown",
   "id": "respected-marriage",
   "metadata": {},
   "source": [
    "### Hourly Time Series Analysis"
   ]
  },
  {
   "cell_type": "code",
   "execution_count": 15,
   "id": "thick-chart",
   "metadata": {},
   "outputs": [
    {
     "data": {
      "image/png": "[encoded data removed]",
      "text/plain": [
       "<Figure size 864x432 with 1 Axes>"
      ]
     },
     "metadata": {
      "needs_background": "light"
     },
     "output_type": "display_data"
    }
   ],
   "source": [
    "data_hourlytimeseries= data_v1.groupby('hour').apply(function,arg ='hour')\n",
    "\n",
    "ViewCount = data_hourlytimeseries['viewCount']\n",
    "FavCount = data_hourlytimeseries['favCount']\n",
    "BuyCount = data_hourlytimeseries['buyCount']\n",
    "\n",
    "plt.figure(figsize=(12,6))\n",
    "# plt.plot(data_datetimeseries.index, ViewCount)\n",
    "plt.plot(data_hourlytimeseries.index, BuyCount)\n",
    "plt.title('')\n",
    "plt.xlabel('Hour')\n",
    "plt.ylabel('Activity')\n",
    "plt.xticks(np.arange(0, len(data_hourlytimeseries.index)+1, 1))\n",
    "plt.show()\n"
   ]
  },
  {
   "cell_type": "markdown",
   "id": "veterinary-thumbnail",
   "metadata": {},
   "source": [
    "<!-- The activity of users is low from 1:00 to 6:00 every day, which is in line with most people's work and rest time; at 7:00, the number of users' visits and the number of visitors began to recover slowly; the user's activity was relatively stable between 10:00 and 17:00; the number of users began to surge at 18:00, and reached the highest value in the day (21:00-22:00), which is the most active time of users.\n",
    "\n",
    "As can be seen from the above figure, businesses should concentrate resources and focus on drainage and marketing activities in the evening (18:00-23:00). -->\n",
    "\n"
   ]
  },
  {
   "cell_type": "markdown",
   "id": "decreased-terrorism",
   "metadata": {},
   "source": [
    "- The activity of users is low from 1:00 to 6:00 every day, which is in line with most people's work and rest time; at 7:00, the number of users' visits and the number of visitors began to recover slowly; the user's activity was relatively stable between 10:00 and 17:00; the number of users began to surge at 18:00, and reached the highest value in the day (21:00-22:00), which is the most active time of users.\n",
    "\n",
    "- As can be seen from the above figure, businesses should concentrate resources and focus on drainage and marketing activities in the evening (18:00-23:00)."
   ]
  },
  {
   "cell_type": "markdown",
   "id": "dedicated-novelty",
   "metadata": {},
   "source": [
    "### Repurchase Frequencies"
   ]
  },
  {
   "cell_type": "code",
   "execution_count": 16,
   "id": "neutral-resort",
   "metadata": {
    "scrolled": true
   },
   "outputs": [
    {
     "data": {
      "image/png": "[encoded data removed]",
      "text/plain": [
       "<Figure size 864x360 with 1 Axes>"
      ]
     },
     "metadata": {
      "needs_background": "light"
     },
     "output_type": "display_data"
    }
   ],
   "source": [
    "query = data_v1.groupby(by='userid').behavior.value_counts().unstack()\n",
    "query = query[query['buy'] >= 2]['buy']\n",
    "query\n",
    "\n",
    "\n",
    "#Distrbution\n",
    "plt.figure(figsize=(12,5))\n",
    "sns.distplot(query,kde=False, color = 'Red').set(xticks=np.arange(1,30,1))\n",
    "plt.xlim(0, 30)\n",
    "plt.show()"
   ]
  },
  {
   "cell_type": "markdown",
   "id": "durable-ottawa",
   "metadata": {},
   "source": [
    "### Repurchase Rate - (Unique userid that purchased the same itemid more than once)"
   ]
  },
  {
   "cell_type": "code",
   "execution_count": 17,
   "id": "weighted-parker",
   "metadata": {},
   "outputs": [
    {
     "name": "stdout",
     "output_type": "stream",
     "text": [
      "The repurchase rate is 63.64312267657992 %\n"
     ]
    }
   ],
   "source": [
    "#Repurchase Rate - (Unique userid that purchased the same itemid more than once)\n",
    "user_bought_count = data_v1[data_v1['behavior']=='buy'].userid.nunique()\n",
    "repurchase_rate = (query.count()/user_bought_count)*100\n",
    "print('The repurchase rate is ' + format(repurchase_rate) + ' %')"
   ]
  },
  {
   "cell_type": "markdown",
   "id": "descending-sensitivity",
   "metadata": {},
   "source": [
    "- As stated by the above output, the repurchase rate of users is 63.6%, meaning out of 100 customers around 63 to 64 customers would repurchase a second or more items after their first, indicating that the quality of Taobao users is relatively high. However most repurchases reside in the second purchase."
   ]
  },
  {
   "cell_type": "markdown",
   "id": "quick-assurance",
   "metadata": {},
   "source": [
    "### Top 10 Product Categories with the most Purchases"
   ]
  },
  {
   "cell_type": "code",
   "execution_count": 18,
   "id": "healthy-dress",
   "metadata": {},
   "outputs": [
    {
     "data": {
      "image/png": "[encoded data removed]",
      "text/plain": [
       "<Figure size 864x432 with 1 Axes>"
      ]
     },
     "metadata": {
      "needs_background": "light"
     },
     "output_type": "display_data"
    }
   ],
   "source": [
    "query = data_v1[data_v1['behavior'] =='buy'].groupby(['catid']).size().reset_index(name='behavior_count') \n",
    "query = query.sort_values(by=['behavior_count'], ascending = False)\n",
    "query\n",
    "\n",
    "\n",
    "plt.figure(figsize=(12,6))\n",
    "sq.plot(sizes=query['behavior_count'].head(10), label=query['catid'], alpha=.8 )\n",
    "plt.title('Top 10 Categories with the most Purchases')\n",
    "plt.show()"
   ]
  },
  {
   "cell_type": "markdown",
   "id": "heard-theology",
   "metadata": {},
   "source": [
    "### Top 10 Product Categories with the most Page Views"
   ]
  },
  {
   "cell_type": "code",
   "execution_count": 19,
   "id": "superior-precipitation",
   "metadata": {},
   "outputs": [
    {
     "data": {
      "image/png": "[encoded data removed]",
      "text/plain": [
       "<Figure size 864x432 with 1 Axes>"
      ]
     },
     "metadata": {
      "needs_background": "light"
     },
     "output_type": "display_data"
    }
   ],
   "source": [
    "query = data_v1[data_v1['behavior'] =='pv'].groupby(['catid']).size().reset_index(name='behavior_count') \n",
    "query = query.sort_values(by=['behavior_count'], ascending = False)\n",
    "query\n",
    "\n",
    "plt.figure(figsize=(12,6))\n",
    "sq.plot(sizes=query['behavior_count'].head(10), label=query['catid'], alpha=.8 )\n",
    "plt.title('Top 10 Categories with the most Product Views')\n",
    "plt.show()"
   ]
  },
  {
   "cell_type": "code",
   "execution_count": 20,
   "id": "eleven-qualification",
   "metadata": {},
   "outputs": [
    {
     "data": {
      "text/html": [
       "<div>\n",
       "<style scoped>\n",
       "    .dataframe tbody tr th:only-of-type {\n",
       "        vertical-align: middle;\n",
       "    }\n",
       "\n",
       "    .dataframe tbody tr th {\n",
       "        vertical-align: top;\n",
       "    }\n",
       "\n",
       "    .dataframe thead th {\n",
       "        text-align: right;\n",
       "    }\n",
       "</style>\n",
       "<table border=\"1\" class=\"dataframe\">\n",
       "  <thead>\n",
       "    <tr style=\"text-align: right;\">\n",
       "      <th>behavior</th>\n",
       "      <th>buy</th>\n",
       "      <th>cart</th>\n",
       "      <th>fav</th>\n",
       "      <th>pv</th>\n",
       "      <th>buy/pv</th>\n",
       "    </tr>\n",
       "    <tr>\n",
       "      <th>itemid</th>\n",
       "      <th></th>\n",
       "      <th></th>\n",
       "      <th></th>\n",
       "      <th></th>\n",
       "      <th></th>\n",
       "    </tr>\n",
       "  </thead>\n",
       "  <tbody>\n",
       "    <tr>\n",
       "      <th>72</th>\n",
       "      <td>0.0</td>\n",
       "      <td>0.0</td>\n",
       "      <td>0.0</td>\n",
       "      <td>1.0</td>\n",
       "      <td>0.000000</td>\n",
       "    </tr>\n",
       "    <tr>\n",
       "      <th>81</th>\n",
       "      <td>1.0</td>\n",
       "      <td>1.0</td>\n",
       "      <td>0.0</td>\n",
       "      <td>13.0</td>\n",
       "      <td>0.076923</td>\n",
       "    </tr>\n",
       "    <tr>\n",
       "      <th>87</th>\n",
       "      <td>0.0</td>\n",
       "      <td>0.0</td>\n",
       "      <td>0.0</td>\n",
       "      <td>1.0</td>\n",
       "      <td>0.000000</td>\n",
       "    </tr>\n",
       "    <tr>\n",
       "      <th>101</th>\n",
       "      <td>0.0</td>\n",
       "      <td>0.0</td>\n",
       "      <td>0.0</td>\n",
       "      <td>2.0</td>\n",
       "      <td>0.000000</td>\n",
       "    </tr>\n",
       "    <tr>\n",
       "      <th>115</th>\n",
       "      <td>0.0</td>\n",
       "      <td>0.0</td>\n",
       "      <td>0.0</td>\n",
       "      <td>4.0</td>\n",
       "      <td>0.000000</td>\n",
       "    </tr>\n",
       "    <tr>\n",
       "      <th>122</th>\n",
       "      <td>0.0</td>\n",
       "      <td>0.0</td>\n",
       "      <td>0.0</td>\n",
       "      <td>1.0</td>\n",
       "      <td>0.000000</td>\n",
       "    </tr>\n",
       "    <tr>\n",
       "      <th>176</th>\n",
       "      <td>0.0</td>\n",
       "      <td>0.0</td>\n",
       "      <td>0.0</td>\n",
       "      <td>1.0</td>\n",
       "      <td>0.000000</td>\n",
       "    </tr>\n",
       "    <tr>\n",
       "      <th>190</th>\n",
       "      <td>0.0</td>\n",
       "      <td>0.0</td>\n",
       "      <td>0.0</td>\n",
       "      <td>1.0</td>\n",
       "      <td>0.000000</td>\n",
       "    </tr>\n",
       "    <tr>\n",
       "      <th>207</th>\n",
       "      <td>0.0</td>\n",
       "      <td>0.0</td>\n",
       "      <td>0.0</td>\n",
       "      <td>1.0</td>\n",
       "      <td>0.000000</td>\n",
       "    </tr>\n",
       "    <tr>\n",
       "      <th>214</th>\n",
       "      <td>0.0</td>\n",
       "      <td>0.0</td>\n",
       "      <td>0.0</td>\n",
       "      <td>1.0</td>\n",
       "      <td>0.000000</td>\n",
       "    </tr>\n",
       "  </tbody>\n",
       "</table>\n",
       "</div>"
      ],
      "text/plain": [
       "behavior  buy  cart  fav    pv    buy/pv\n",
       "itemid                                  \n",
       "72        0.0   0.0  0.0   1.0  0.000000\n",
       "81        1.0   1.0  0.0  13.0  0.076923\n",
       "87        0.0   0.0  0.0   1.0  0.000000\n",
       "101       0.0   0.0  0.0   2.0  0.000000\n",
       "115       0.0   0.0  0.0   4.0  0.000000\n",
       "122       0.0   0.0  0.0   1.0  0.000000\n",
       "176       0.0   0.0  0.0   1.0  0.000000\n",
       "190       0.0   0.0  0.0   1.0  0.000000\n",
       "207       0.0   0.0  0.0   1.0  0.000000\n",
       "214       0.0   0.0  0.0   1.0  0.000000"
      ]
     },
     "execution_count": 20,
     "metadata": {},
     "output_type": "execute_result"
    }
   ],
   "source": [
    "#Top 10 unique userid purchase volume and rate\n",
    "query = data_v1.groupby(by='itemid').behavior.value_counts().unstack()\n",
    "query.replace(to_replace=np.nan, value=0, inplace=True)\n",
    "query['buy/pv'] = query['buy']/query['pv']\n",
    "# query = query[query['buy/pv'] > 0]\n",
    "\n",
    "# query = query.sort_values(by=['buy/pv'], ascending = False)\n",
    "query.head(10)"
   ]
  },
  {
   "cell_type": "code",
   "execution_count": 21,
   "id": "secret-blocking",
   "metadata": {},
   "outputs": [
    {
     "data": {
      "text/html": [
       "<div>\n",
       "<style scoped>\n",
       "    .dataframe tbody tr th:only-of-type {\n",
       "        vertical-align: middle;\n",
       "    }\n",
       "\n",
       "    .dataframe tbody tr th {\n",
       "        vertical-align: top;\n",
       "    }\n",
       "\n",
       "    .dataframe thead th {\n",
       "        text-align: right;\n",
       "    }\n",
       "</style>\n",
       "<table border=\"1\" class=\"dataframe\">\n",
       "  <thead>\n",
       "    <tr style=\"text-align: right;\">\n",
       "      <th>behavior</th>\n",
       "      <th>buy</th>\n",
       "      <th>cart</th>\n",
       "      <th>fav</th>\n",
       "      <th>pv</th>\n",
       "      <th>buy/pv</th>\n",
       "    </tr>\n",
       "    <tr>\n",
       "      <th>itemid</th>\n",
       "      <th></th>\n",
       "      <th></th>\n",
       "      <th></th>\n",
       "      <th></th>\n",
       "      <th></th>\n",
       "    </tr>\n",
       "  </thead>\n",
       "  <tbody>\n",
       "    <tr>\n",
       "      <th>72</th>\n",
       "      <td>0.0</td>\n",
       "      <td>0.0</td>\n",
       "      <td>0.0</td>\n",
       "      <td>1.0</td>\n",
       "      <td>0.0</td>\n",
       "    </tr>\n",
       "    <tr>\n",
       "      <th>3399641</th>\n",
       "      <td>0.0</td>\n",
       "      <td>0.0</td>\n",
       "      <td>0.0</td>\n",
       "      <td>2.0</td>\n",
       "      <td>0.0</td>\n",
       "    </tr>\n",
       "    <tr>\n",
       "      <th>3399628</th>\n",
       "      <td>0.0</td>\n",
       "      <td>0.0</td>\n",
       "      <td>0.0</td>\n",
       "      <td>4.0</td>\n",
       "      <td>0.0</td>\n",
       "    </tr>\n",
       "    <tr>\n",
       "      <th>3399623</th>\n",
       "      <td>0.0</td>\n",
       "      <td>0.0</td>\n",
       "      <td>0.0</td>\n",
       "      <td>5.0</td>\n",
       "      <td>0.0</td>\n",
       "    </tr>\n",
       "    <tr>\n",
       "      <th>3399612</th>\n",
       "      <td>0.0</td>\n",
       "      <td>0.0</td>\n",
       "      <td>0.0</td>\n",
       "      <td>1.0</td>\n",
       "      <td>0.0</td>\n",
       "    </tr>\n",
       "    <tr>\n",
       "      <th>3399596</th>\n",
       "      <td>0.0</td>\n",
       "      <td>0.0</td>\n",
       "      <td>0.0</td>\n",
       "      <td>1.0</td>\n",
       "      <td>0.0</td>\n",
       "    </tr>\n",
       "    <tr>\n",
       "      <th>3399594</th>\n",
       "      <td>0.0</td>\n",
       "      <td>0.0</td>\n",
       "      <td>0.0</td>\n",
       "      <td>1.0</td>\n",
       "      <td>0.0</td>\n",
       "    </tr>\n",
       "    <tr>\n",
       "      <th>3399551</th>\n",
       "      <td>0.0</td>\n",
       "      <td>0.0</td>\n",
       "      <td>0.0</td>\n",
       "      <td>1.0</td>\n",
       "      <td>0.0</td>\n",
       "    </tr>\n",
       "    <tr>\n",
       "      <th>3399535</th>\n",
       "      <td>0.0</td>\n",
       "      <td>1.0</td>\n",
       "      <td>0.0</td>\n",
       "      <td>1.0</td>\n",
       "      <td>0.0</td>\n",
       "    </tr>\n",
       "    <tr>\n",
       "      <th>3399527</th>\n",
       "      <td>0.0</td>\n",
       "      <td>0.0</td>\n",
       "      <td>0.0</td>\n",
       "      <td>1.0</td>\n",
       "      <td>0.0</td>\n",
       "    </tr>\n",
       "  </tbody>\n",
       "</table>\n",
       "</div>"
      ],
      "text/plain": [
       "behavior  buy  cart  fav   pv  buy/pv\n",
       "itemid                               \n",
       "72        0.0   0.0  0.0  1.0     0.0\n",
       "3399641   0.0   0.0  0.0  2.0     0.0\n",
       "3399628   0.0   0.0  0.0  4.0     0.0\n",
       "3399623   0.0   0.0  0.0  5.0     0.0\n",
       "3399612   0.0   0.0  0.0  1.0     0.0\n",
       "3399596   0.0   0.0  0.0  1.0     0.0\n",
       "3399594   0.0   0.0  0.0  1.0     0.0\n",
       "3399551   0.0   0.0  0.0  1.0     0.0\n",
       "3399535   0.0   1.0  0.0  1.0     0.0\n",
       "3399527   0.0   0.0  0.0  1.0     0.0"
      ]
     },
     "execution_count": 21,
     "metadata": {},
     "output_type": "execute_result"
    }
   ],
   "source": [
    "#Bottom 10 unique userid purchase volume and rate\n",
    "query = query.sort_values(by=['buy/pv'], ascending = True)\n",
    "query.head(10)"
   ]
  },
  {
   "cell_type": "markdown",
   "id": "understood-ridge",
   "metadata": {},
   "source": [
    "Conclusions and Suggestions Summary\n",
    "\n",
    "1.) Based on sales funnel analysis, Low Buy/PV ratio (2.29% of customers who view the product end up making a purchase) could indicate that the recommendation algorithm can be improved to better display more attractive products for the specific user.\n",
    "\n",
    "2.) As expected from the (date) time series analysis user traffic and purchase spikes up on the weekends.\n",
    "\n",
    "3.) The hourly time series analysis shows uptick in activity from 8:00 - 18:00 then another trend upwards between hours 20:00 to 22:00. This closely imitates the activity of a regular working class citizen as work begins around 8:00 and ends around 10 hours later to 18:00. While peak acitivty at times between 20:00 to 22:00 mirrors the winding down period of a working citizens average day. The platform should utizlize high traffic time periods to launch its advertising campaigns, production promotions, discounts, and new product to capture more funnel traffic in efforts to maximize purchase volume and rates.\n",
    "\n",
    "4.) High product view volume does not necessarily correlate to high purchase volume of that product category. Unless product category is being specifically searched and led to no purchase due to product disinterest, product recommendation algorithm should be improved so that highly viewed products should also reflect higher purchase volumns.\n",
    "\n",
    "5.) Repurchase rate is 63.6%. Due to this dataset being in a rather short time frame insights could be rather skewed. Though without industry ratios to compare to, it would be ideal for Tao Bao to shift the distribution repurchases to higher repurchase frequency where customers are repurhasing more than once. Tao Bao should emphasizes the importance of increasing repurchasing of old customers through VIP programs, exclusive discounts of loyal customers, or boosting repurchases through personalized campaigns such as email reminders in efforts to attract them to the platform or upselling. "
   ]
  },
  {
   "cell_type": "code",
   "execution_count": null,
   "id": "adolescent-isolation",
   "metadata": {},
   "outputs": [],
   "source": []
  }
 ],
 "metadata": {
  "kernelspec": {
   "display_name": "Python 3",
   "language": "python",
   "name": "python3"
  },
  "language_info": {
   "codemirror_mode": {
    "name": "ipython",
    "version": 3
   },
   "file_extension": ".py",
   "mimetype": "text/x-python",
   "name": "python",
   "nbconvert_exporter": "python",
   "pygments_lexer": "ipython3",
   "version": "3.8.5"
  }
 },
 "nbformat": 4,
 "nbformat_minor": 5
}
